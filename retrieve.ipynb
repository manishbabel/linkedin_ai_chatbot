{
 "cells": [
  {
   "cell_type": "code",
   "execution_count": 8,
   "metadata": {},
   "outputs": [
    {
     "name": "stdout",
     "output_type": "stream",
     "text": [
      "Requirement already satisfied: python-dotenv in /Users/manishbabel/anaconda3/envs/nobita/lib/python3.11/site-packages (1.0.1)\n"
     ]
    }
   ],
   "source": [
    "!pip install python-dotenv"
   ]
  },
  {
   "cell_type": "code",
   "execution_count": 11,
   "metadata": {},
   "outputs": [
    {
     "name": "stdout",
     "output_type": "stream",
     "text": [
      "localhost:6333\n"
     ]
    }
   ],
   "source": [
    "\n",
    "from dotenv import load_dotenv\n",
    "import os\n",
    "\n",
    "# Load the environment variables from the .env file\n",
    "load_dotenv()\n",
    "\n",
    "# Now you can access them\n",
    "my_env_variable = os.environ.get(\"QDRANT_URL\")\n",
    " \n",
    "\n",
    "print(my_env_variable)\n"
   ]
  },
  {
   "cell_type": "code",
   "execution_count": 1,
   "metadata": {},
   "outputs": [],
   "source": [
    "%load_ext autoreload\n",
    "%autoreload 2"
   ]
  },
  {
   "cell_type": "code",
   "execution_count": 6,
   "metadata": {},
   "outputs": [],
   "source": [
    "from src.embeddings import EmbeddingModelSingleton, CrossEncoderModelSingleton\n",
    "from src.qdrant import build_qdrant_client\n",
    "from src.retrievers import QdrantVectorDBRetriever, RetrievalVisualizer"
   ]
  },
  {
   "cell_type": "code",
   "execution_count": 12,
   "metadata": {},
   "outputs": [],
   "source": [
    "embedding_model = EmbeddingModelSingleton()\n",
    "cross_endocer_model = CrossEncoderModelSingleton()\n",
    "qdrant_client = build_qdrant_client()\n",
    "\n",
    "vector_db_retriever = QdrantVectorDBRetriever(\n",
    "    embedding_model=embedding_model,\n",
    "    vector_db_client=qdrant_client,\n",
    "    cross_encoder_model=cross_endocer_model,\n",
    ")"
   ]
  },
  {
   "cell_type": "code",
   "execution_count": 13,
   "metadata": {},
   "outputs": [
    {
     "name": "stderr",
     "output_type": "stream",
     "text": [
      "/Users/manishbabel/anaconda3/envs/nobita/lib/python3.11/site-packages/umap/umap_.py:1945: UserWarning: n_jobs value 1 overridden to 1 by setting random_state. Use no seed for parallelism.\n",
      "  warn(f\"n_jobs value {self.n_jobs} overridden to 1 by setting random_state. Use no seed for parallelism.\")\n",
      "100%|█████████████████████████████████████████████████████████████████████████████████████████████████████████████████████████| 320/320 [01:54<00:00,  2.80it/s]\n"
     ]
    }
   ],
   "source": [
    "all_posts = vector_db_retriever.scroll()\n",
    "visualizer = RetrievalVisualizer(posts=all_posts)"
   ]
  },
  {
   "cell_type": "code",
   "execution_count": 14,
   "metadata": {},
   "outputs": [
    {
     "data": {
      "text/html": [
       "\n",
       "        <div style=\"font-family: Arial, sans-serif; color: black; margin: 10px; padding: 20px; border-radius: 10px; background-color: #f3f3f3; box-shadow: 0 0 10px rgba(0,0,0,0.1);\">\n",
       "            <h2 style=\"color: #333;\">Post ID: Post_16</h2>\n",
       "            <h3 style=\"color: #555;\">Chunk ID: 16ff3d89-4cbe-7b8f-8310-30cbde79b3ee</h3>\n",
       "            <p><strong>Embedding Length:</strong> 384</p>\n",
       "        <p><strong>Score:</strong> 0.6725782</p><p><strong>Rerank Score:</strong> -0.748467206954956</p>\n",
       "            <p><strong>Chunked Text:</strong> \" ##as our real - time data source, bytewax to transform raw text into vector embeddings, and qdrant as a serverless vector db, to store and retrieve embeddings at inference time. you will find the link to the github repo in the comment section below what's next? in the next lecture, we will cover the inference pipeline, so our system can serve predictions to end users. thank you paul iusztin and alexandru rzvan for making this course possible. it is a pleasure working with you guys! - - - - hi there! it's pau labarta bajo every week i share free, hands - on content, on production - grade ml, to help you build real - world ml products. follow me and click on the so you don't miss what's coming next hashtag # machinelearning hashtag # mlops hashtag # realworldml hashtag # llmops hashtag # llms hashtag # bytewax hashtag # qdrant hashtag # vectordb hashtag # realtimeml \"</p>\n",
       "            <p><strong>Full Raw Text:</strong> \" 🎬 𝗟𝗲𝘀𝘀𝗼𝗻 𝟯 of the 𝗛𝗮𝗻𝗱𝘀-𝗼𝗻 𝗟𝗟𝗠 𝗰𝗼𝘂𝗿𝘀𝗲 is 𝗢𝗨𝗧 🎬\n",
       "𝗖𝗼𝗻𝘁𝗲𝘅𝘁\n",
       "LLMs are as good as the data you embed in your prompts. And for many real-world problems, this means the data needs to be both\n",
       "→ good, and\n",
       "→ fresh\n",
       "𝗘𝘅𝗮𝗺𝗽𝗹𝗲 💁\n",
       "Imagine you build a great LLM-based financial advisor… but you only feed it with outdated data.\n",
       "No matter how good your model is, the predictions it will generate will be rubbish 🫣\n",
       "So, the question is\n",
       "𝙃𝙤𝙬 𝙙𝙤 𝙛𝙚𝙚𝙙 𝙛𝙧𝙚𝙨𝙝 𝙙𝙖𝙩𝙖 𝙩𝙤 𝙮𝙤𝙪𝙧 𝙇𝙇𝙈 ❓\n",
       "𝗧𝗵𝗲 𝘀𝗼𝗹𝘂𝘁𝗶𝗼𝗻 🧠\n",
       "You need to build a 𝗿𝗲𝗮𝗹-𝘁𝗶𝗺𝗲 𝘁𝗲𝘅𝘁 𝗲𝗺𝗯𝗲𝗱𝗱𝗶𝗻𝗴 𝗽𝗶𝗽𝗲𝗹𝗶𝗻𝗲, that\n",
       "→ 𝗜𝗻𝗴𝗲𝘀𝘁𝘀 raw text from your data source, in real-time\n",
       "→ 𝗧𝗿𝗮𝗻𝘀𝗳𝗼𝗿𝗺𝘀 this raw text into vector embeddings, and\n",
       "→ 𝗦𝘁𝗼𝗿𝗲𝘀 these embeddings in a VectorDB, so your LLM can fetch and use them for Retrieval Augmented Generation (RAG) at inference time.\n",
       "𝗙𝘂𝗹𝗹 𝘀𝗼𝘂𝗿𝗰𝗲 𝗰𝗼𝗱𝗲 👨🏻‍💻\n",
       "In Lesson 3 of the 𝗛𝗮𝗻𝗱𝘀-𝗼𝗻 𝗟𝗟𝗠 𝗖𝗼𝘂𝗿𝘀𝗲, you will find a full source code implementation of a text embedding pipeline, that uses:\n",
       "→\n",
       "Alpaca\n",
       "News API as our real-time data source,\n",
       "→\n",
       "Bytewax\n",
       "to transform raw text into vector embeddings, and\n",
       "→\n",
       "Qdrant\n",
       "as a Serverless Vector DB, to store and retrieve embeddings at inference time.\n",
       "You will find the link to the 𝗚𝗶𝘁𝗛𝘂𝗯 𝗿𝗲𝗽𝗼 in the comment section below ⬇️\n",
       "𝗪𝗵𝗮𝘁'𝘀 𝗻𝗲𝘅𝘁? ⏭️\n",
       "In the next lecture, we will cover the 𝗶𝗻𝗳𝗲𝗿𝗲𝗻𝗰𝗲 𝗽𝗶𝗽𝗲𝗹𝗶𝗻𝗲, so our system can serve predictions to end users. 🚀\n",
       "THANK YOU\n",
       "Paul Iusztin\n",
       "and\n",
       "Alexandru Răzvanț 👋\n",
       "for making this course possible. It is a pleasure working with you guys!\n",
       "----\n",
       "Hi there! It's\n",
       "Pau Labarta Bajo\n",
       "👋\n",
       "Every week I share free, hands-on content, on production-grade ML, to help you build real-world ML products.\n",
       "𝗙𝗼𝗹𝗹𝗼𝘄 𝗺𝗲 and 𝗰𝗹𝗶𝗰𝗸 𝗼𝗻 𝘁𝗵𝗲 🔔 so you don't miss what's coming next\n",
       "hashtag\n",
       "#\n",
       "machinelearning\n",
       "hashtag\n",
       "#\n",
       "mlops\n",
       "hashtag\n",
       "#\n",
       "realworldml\n",
       "hashtag\n",
       "#\n",
       "llmops\n",
       "hashtag\n",
       "#\n",
       "llms\n",
       "hashtag\n",
       "#\n",
       "bytewax\n",
       "hashtag\n",
       "#\n",
       "qdrant\n",
       "hashtag\n",
       "#\n",
       "vectordb\n",
       "hashtag\n",
       "#\n",
       "realtimeml \"</p>\n",
       "            \n",
       "        </div>"
      ],
      "text/plain": [
       "<IPython.core.display.HTML object>"
      ]
     },
     "metadata": {},
     "output_type": "display_data"
    },
    {
     "data": {
      "text/html": [
       "\n",
       "        <div style=\"font-family: Arial, sans-serif; color: black; margin: 10px; padding: 20px; border-radius: 10px; background-color: #f3f3f3; box-shadow: 0 0 10px rgba(0,0,0,0.1);\">\n",
       "            <h2 style=\"color: #333;\">Post ID: Post_30</h2>\n",
       "            <h3 style=\"color: #555;\">Chunk ID: 04baa0ee-ae34-6a18-2237-3b4320f114c9</h3>\n",
       "            <p><strong>Embedding Length:</strong> 384</p>\n",
       "        <p><strong>Score:</strong> 0.65788656</p><p><strong>Rerank Score:</strong> -2.153963327407837</p>\n",
       "            <p><strong>Chunked Text:</strong> \" and real - time financial news ( e. g. alpaca ) - a stream processing engine ( e. g., bytewax - [ url ] ) - an encoder - only model for embedding the documents ( e. g., pick one from ` sentence - transformers ` ) - a vector db ( e. g., qdrant - [ url ] ) how does it work? on the feature pipeline side : 1. using bytewax, you ingest the financial news and clean them 2. you chunk the news documents and embed them 3. you insert the embedding of the docs along with their metadata ( e. g., the initial text, source _ url, etc. ) to qdrant on the inference pipeline side : 4. the user question is embedded ( using the same embedding model ) 5. using this embedding, you extract the top k most similar news documents from qdrant 6. along with the user question, you inject the necessary metadata from the extracted top k documents into the prompt template ( e. g., the text of documents & its source _ url ) 7. you pass the whole prompt to the llm for the \"</p>\n",
       "            <p><strong>Full Raw Text:</strong> \" 𝗥𝗔𝗚: 𝘄𝗵𝗮𝘁 problems does it solve, and 𝗵𝗼𝘄 it's integrated into 𝗟𝗟𝗠-𝗽𝗼𝘄𝗲𝗿𝗲𝗱 𝗮𝗽𝗽𝗹𝗶𝗰𝗮𝘁𝗶𝗼𝗻𝘀?\n",
       "Let's find out ↓\n",
       "RAG is a popular strategy when building LLMs to add external data to your prompt.\n",
       "=== 𝗣𝗿𝗼𝗯𝗹𝗲𝗺 ===\n",
       "Working with LLMs has 3 main issues:\n",
       "1. The world moves fast\n",
       "An LLM learns an internal knowledge base. However, the issue is that its knowledge is limited to its training dataset.\n",
       "The world moves fast. New data flows on the internet every second. Thus, the model's knowledge base can quickly become obsolete.\n",
       "One solution is to fine-tune the model every minute or day...\n",
       "If you have some billions to spend around, go for it.\n",
       "2. Hallucinations\n",
       "An LLM  is full of testosterone and likes to be blindly confident.\n",
       "Even if the answer looks 100% legit, you can never fully trust it.\n",
       "3. Lack of reference links\n",
       "It is hard to trust the response of the LLM if we can't see the source of its decisions.\n",
       "Especially for important decisions (e.g., health, financials)\n",
       "=== 𝗦𝗼𝗹𝘂𝘁𝗶𝗼𝗻 ===\n",
       "→ Surprize! It is RAG.\n",
       "1. Avoid fine-tuning\n",
       "Using RAG, you use the LLM as a reasoning engine and the external knowledge base as the main memory (e.g., vector DB).\n",
       "The memory is volatile, so you can quickly introduce or remove data.\n",
       "2. Avoid hallucinations\n",
       "By forcing the LLM to answer solely based on the given context, the LLM will provide an answer as follows:\n",
       "-  use the external data to respond to the user's question if it contains the necessary insights\n",
       "- \"I don't know\" if not\n",
       "3. Add reference links\n",
       "Using RAG, you can easily track the source of the data and highlight it to the user.\n",
       "=== 𝗛𝗼𝘄 𝗱𝗼𝗲𝘀 𝗥𝗔𝗚 𝘄𝗼𝗿𝗸? ===\n",
       "Let's say we want to use RAG to build a financial assistant.\n",
       "𝘞𝘩𝘢𝘵 𝘥𝘰 𝘸𝘦 𝘯𝘦𝘦𝘥?\n",
       "- a data source with historical and real-time financial news (e.g. Alpaca)\n",
       "- a stream processing engine (e.g., Bytewax - 🔗\n",
       "https://lnkd.in/dWJytkZ5\n",
       ")\n",
       "- an encoder-only model for embedding the documents (e.g., pick one from `sentence-transformers`)\n",
       "- a vector DB (e.g., Qdrant - 🔗\n",
       "https://lnkd.in/d_FA9Bb3\n",
       ")\n",
       "𝘏𝘰𝘸 𝘥𝘰𝘦𝘴 𝘪𝘵 𝘸𝘰𝘳𝘬?\n",
       "↳ On the feature pipeline side:\n",
       "1. using Bytewax, you ingest the financial news and clean them\n",
       "2. you chunk the news documents and embed them\n",
       "3. you insert the embedding of the docs along with their metadata (e.g., the initial text, source_url, etc.) to Qdrant\n",
       "↳ On the inference pipeline side:\n",
       "4. the user question is embedded (using the same embedding model)\n",
       "5. using this embedding, you extract the top K most similar news documents from Qdrant\n",
       "6. along with the user question, you inject the necessary metadata from the extracted top K documents into the prompt template (e.g., the text of documents & its source_url)\n",
       "7. you pass the whole prompt to the LLM for the final answer\n",
       "hashtag\n",
       "#\n",
       "machinelearning\n",
       "hashtag\n",
       "#\n",
       "mlops\n",
       "hashtag\n",
       "#\n",
       "datascience \"</p>\n",
       "            \n",
       "        </div>"
      ],
      "text/plain": [
       "<IPython.core.display.HTML object>"
      ]
     },
     "metadata": {},
     "output_type": "display_data"
    },
    {
     "data": {
      "text/html": [
       "\n",
       "        <div style=\"font-family: Arial, sans-serif; color: black; margin: 10px; padding: 20px; border-radius: 10px; background-color: #f3f3f3; box-shadow: 0 0 10px rgba(0,0,0,0.1);\">\n",
       "            <h2 style=\"color: #333;\">Post ID: Post_36</h2>\n",
       "            <h3 style=\"color: #555;\">Chunk ID: 39b168bc-fd3e-c8f3-5f2c-e35a1f7d9add</h3>\n",
       "            <p><strong>Embedding Length:</strong> 384</p>\n",
       "        <p><strong>Score:</strong> 0.65722954</p><p><strong>Rerank Score:</strong> -3.588724136352539</p>\n",
       "            <p><strong>Chunked Text:</strong> \" to the llm. 7. insert the user question + assistant answer to the chat history.. but the question is, how do you keep your vector db up to date with the latest data? you need a real - time streaming pipeline. how do you implement it? you need 2 components : a streaming processing framework. for example, bytewaxis built in rust for efficiency and exposes a python interface for ease of use - you don't need java to implement real - time pipelines anymore. bytewax : [ url ] a vector db. for example, qdrantprovides a rich set of features and a seamless experience. qdrant : [ url ]. here is an example of how to implement a streaming pipeline for financial news 1. financial news data source ( e. g., alpaca ) : to populate your vector db, you need a historical api ( e. g., restful api ) to add data to your vector db in batch mode between a desired [ start _ date, end _ date ] range. you can tweak the number of workers to parallelize this step as much as possible. you run this once in the beginning. you need the data exposed under a web socket \"</p>\n",
       "            <p><strong>Full Raw Text:</strong> \" To successfully use 𝗥𝗔𝗚 in your 𝗟𝗟𝗠 𝗮𝗽𝗽𝗹𝗶𝗰𝗮𝘁𝗶𝗼𝗻𝘀, your 𝘃𝗲𝗰𝘁𝗼𝗿 𝗗𝗕 must constantly be updated with the latest data.\n",
       "Here is how you can implement a 𝘀𝘁𝗿𝗲𝗮𝗺𝗶𝗻𝗴 𝗽𝗶𝗽𝗲𝗹𝗶𝗻𝗲 to keep your vector DB in sync with your datasets ↓\n",
       ".\n",
       "𝗥𝗔𝗚 is a popular strategy when building LLMs to add context to your prompt about your private datasets.\n",
       "Leveraging your domain data using RAG provides 2 significant benefits:\n",
       "- you don't need to fine-tune your model as often (or at all)\n",
       "- avoid hallucinations\n",
       ".\n",
       "On the 𝗯𝗼𝘁 𝘀𝗶𝗱𝗲, to implement RAG, you have to:\n",
       "3. Embed the user's question using an embedding model (e.g., BERT). Use the embedding to query your vector DB and find the most similar vectors using a distance function (e.g., cos similarity).\n",
       "4. Get the top N closest vectors and their metadata.\n",
       "5. Attach the extracted top N vectors metadata + the chat history to the input prompt.\n",
       "6. Pass the prompt to the LLM.\n",
       "7. Insert the user question + assistant answer to the chat history.\n",
       ".\n",
       "But the question is, 𝗵𝗼𝘄 do you 𝗸𝗲𝗲𝗽 𝘆𝗼𝘂𝗿 𝘃𝗲𝗰𝘁𝗼𝗿 𝗗𝗕 𝘂𝗽 𝘁𝗼 𝗱𝗮𝘁𝗲 𝘄𝗶𝘁𝗵 𝘁𝗵𝗲 𝗹𝗮𝘁𝗲𝘀𝘁 𝗱𝗮𝘁𝗮?\n",
       "↳ You need a real-time streaming pipeline.\n",
       "How do you implement it?\n",
       "You need 2 components:\n",
       "↳ A streaming processing framework. For example, Bytewax is built in Rust for efficiency and exposes a Python interface for ease of use - you don't need Java to implement real-time pipelines anymore.\n",
       "🔗 Bytewax:\n",
       "https://lnkd.in/dbJDDvKB\n",
       "↳ A vector DB. For example, Qdrant provides a rich set of features and a seamless experience.\n",
       "🔗 Qdrant:\n",
       "https://qdrant.tech/\n",
       ".\n",
       "Here is an example of how to implement a streaming pipeline for financial news ↓\n",
       "𝟭. Financial news data source (e.g., Alpaca):\n",
       "To populate your vector DB, you need a historical API (e.g., RESTful API) to add data to your vector DB in batch mode between a desired [start_date, end_date] range. You can tweak the number of workers to parallelize this step as much as possible.\n",
       "→ You run this once in the beginning.\n",
       "You need the data exposed under a web socket to ingest news in real time. So, you'll be able to listen to the news and ingest it in your vector DB as soon as they are available.\n",
       "→ Listens 24/7 for financial news.\n",
       "𝟮. Build the streaming pipeline using Bytewax:\n",
       "Implement 2 input connectors for the 2 different types of APIs: RESTful API & web socket.\n",
       "The rest of the steps can be shared between both connectors ↓\n",
       "- Clean financial news documents.\n",
       "- Chunk the documents.\n",
       "- Embed the documents (e.g., using Bert).\n",
       "- Insert the embedded documents + their metadata to the vector DB (e.g., Qdrant).\n",
       "𝟯-𝟳. When the users ask a financial question, you can leverage RAG with an up-to-date vector DB to search for the latest news in the industry.\n",
       "hashtag\n",
       "#\n",
       "machinelearning\n",
       "hashtag\n",
       "#\n",
       "mlops\n",
       "hashtag\n",
       "#\n",
       "deeplearning \"</p>\n",
       "            \n",
       "        </div>"
      ],
      "text/plain": [
       "<IPython.core.display.HTML object>"
      ]
     },
     "metadata": {},
     "output_type": "display_data"
    }
   ],
   "source": [
    "query_question = \"Posts about Qdrant\"\n",
    "retrieved_results = vector_db_retriever.search(query=query_question, limit=3, return_all=True)\n",
    "for post in retrieved_results[\"posts\"]:\n",
    "    vector_db_retriever.render_as_html(post)"
   ]
  },
  {
   "cell_type": "code",
   "execution_count": 15,
   "metadata": {},
   "outputs": [
    {
     "name": "stderr",
     "output_type": "stream",
     "text": [
      "100%|█████████████████████████████████████████████████████████████████████████████████████████████████████████████████████████████| 1/1 [00:00<00:00,  2.88it/s]\n",
      "100%|█████████████████████████████████████████████████████████████████████████████████████████████████████████████████████████████| 3/3 [00:01<00:00,  2.54it/s]\n"
     ]
    },
    {
     "data": {
      "image/png": "[encoded data removed]",
      "text/plain": [
       "<Figure size 1000x600 with 1 Axes>"
      ]
     },
     "metadata": {},
     "output_type": "display_data"
    }
   ],
   "source": [
    "visualizer.render(\n",
    "    embedded_queries=retrieved_results[\"embdedded_queries\"],\n",
    "    retrieved_posts=retrieved_results[\"posts\"],\n",
    ")"
   ]
  },
  {
   "cell_type": "code",
   "execution_count": 16,
   "metadata": {},
   "outputs": [
    {
     "data": {
      "text/html": [
       "\n",
       "        <div style=\"font-family: Arial, sans-serif; color: black; margin: 10px; padding: 20px; border-radius: 10px; background-color: #f3f3f3; box-shadow: 0 0 10px rgba(0,0,0,0.1);\">\n",
       "            <h2 style=\"color: #333;\">Post ID: Post_19</h2>\n",
       "            <h3 style=\"color: #555;\">Chunk ID: 462bb1a7-94a8-c2fa-c067-8aef61b1d5c5</h3>\n",
       "            <p><strong>Embedding Length:</strong> 384</p>\n",
       "        <p><strong>Score:</strong> 0.93567</p><p><strong>Rerank Score:</strong> 1.2456586360931396</p>\n",
       "            <p><strong>Chunked Text:</strong> \" what do you need to fine - tune an open - source llm to create your own financial advisor? this is the llm fine - tuning kit you must know dataset the key component of any successful ml project is the data. you need a 100 - 1000 sample q & a ( questions & answers ) dataset with financial scenarios. the best approach is to hire a bunch of experts to create it manually. but, for a poc, that might get expensive & slow. the good news is that a method called \" finetuning with distillation \" exists. in a nutshell, this is how it works : \" use a big & powerful llm ( e. g., gpt4 ) to generate your fine - tuning data. after, use this data to fine - tune a smaller model ( e. g., falcon 7b ). \" for specializing smaller llms on specific use cases ( e. g., financial advisors ), this is an excellent method to kick off your project. pre - trained open - source llm you never want to start training your llm from scratch ( or rarely ). why? because you need trillions of tokens & millions of $ $ $ in compute power. you want to fine - \"</p>\n",
       "            <p><strong>Full Raw Text:</strong> \" 𝗪𝗵𝗮𝘁 do you need to 𝗳𝗶𝗻𝗲-𝘁𝘂𝗻𝗲 an open-source 𝗟𝗟𝗠 to create your own 𝗳𝗶𝗻𝗮𝗻𝗰𝗶𝗮𝗹 𝗮𝗱𝘃𝗶𝘀𝗼𝗿?\n",
       "This is the 𝗟𝗟𝗠 𝗳𝗶𝗻𝗲-𝘁𝘂𝗻𝗶𝗻𝗴 𝗸𝗶𝘁 you must know ↓\n",
       "𝗗𝗮𝘁𝗮𝘀𝗲𝘁\n",
       "The key component of any successful ML project is the data.\n",
       "You need a 100 - 1000 sample Q&A (questions & answers) dataset with financial scenarios.\n",
       "The best approach is to hire a bunch of experts to create it manually.\n",
       "But, for a PoC, that might get expensive & slow.\n",
       "The good news is that a method called \"𝘍𝘪𝘯𝘦𝘵𝘶𝘯𝘪𝘯𝘨 𝘸𝘪𝘵𝘩 𝘥𝘪𝘴𝘵𝘪𝘭𝘭𝘢𝘵𝘪𝘰𝘯\" exists.\n",
       "In a nutshell, this is how it works: \"Use a big & powerful LLM (e.g., GPT4) to generate your fine-tuning data. After, use this data to fine-tune a smaller model (e.g., Falcon 7B).\"\n",
       "For specializing smaller LLMs on specific use cases (e.g., financial advisors), this is an excellent method to kick off your project.\n",
       "𝗣𝗿𝗲-𝘁𝗿𝗮𝗶𝗻𝗲𝗱 𝗼𝗽𝗲𝗻-𝘀𝗼𝘂𝗿𝗰𝗲 𝗟𝗟𝗠\n",
       "You never want to start training your LLM from scratch (or rarely).\n",
       "Why? Because you need trillions of tokens & millions of $$$ in compute power.\n",
       "You want to fine-tune your LLM on your specific task.\n",
       "The good news is that you can find a plethora of open-source LLMs on HuggingFace (e.g., Falcon, LLaMa, etc.)\n",
       "𝗣𝗮𝗿𝗮𝗺𝗲𝘁𝗲𝗿 𝗲𝗳𝗳𝗶𝗰𝗶𝗲𝗻𝘁 𝗳𝗶𝗻𝗲-𝘁𝘂𝗻𝗶𝗻𝗴\n",
       "As LLMs are big... duh...\n",
       "... they don't fit on a single GPU.\n",
       "As you want only to fine-tune the LLM, the community invented clever techniques that quantize the LLM (to fit on a single GPU) and fine-tune only a set of smaller adapters.\n",
       "One popular approach is QLoRA, which can be implemented using HF's `𝘱𝘦𝘧𝘵` Python package.\n",
       "𝗠𝗟𝗢𝗽𝘀\n",
       "As you want your project to get to production, you have to integrate the following MLOps components:\n",
       "- experiment tracker to monitor & compare your experiments\n",
       "- model registry to version & share your models between the FTI pipelines\n",
       "- prompts monitoring to debug & track complex chains\n",
       "↳ All of them are available on ML platforms, such as Comet ML 🔗\n",
       "https://lnkd.in/d7jNQz7m\n",
       "𝗖𝗼𝗺𝗽𝘂𝘁𝗲 𝗽𝗹𝗮𝘁𝗳𝗼𝗿𝗺\n",
       "The most common approach is to train your LLM on your on-prem Nivida GPUs cluster or rent them on cloud providers such as AWS, Paperspace, etc.\n",
       "But what if I told you that there is an easier way?\n",
       "There is! It is called serverless.\n",
       "For example,\n",
       "Beam\n",
       "is a GPU serverless provider that makes deploying your training pipeline as easy as decorating your Python function with `@𝘢𝘱𝘱.𝘳𝘶𝘯()`.\n",
       "Along with ease of deployment, you can easily add your training code to your CI/CD to add the final piece of the MLOps puzzle, called CT (continuous training).\n",
       "↳ Beam: 🔗\n",
       "https://lnkd.in/dedCaMDh\n",
       ".\n",
       "↳ To see all these components in action, check out my FREE 𝗛𝗮𝗻𝗱𝘀-𝗼𝗻 𝗟𝗟𝗠𝘀 𝗰𝗼𝘂𝗿𝘀𝗲 & give it a ⭐:  🔗\n",
       "https://lnkd.in/dZgqtf8f\n",
       "hashtag\n",
       "#\n",
       "machinelearning\n",
       "hashtag\n",
       "#\n",
       "mlops\n",
       "hashtag\n",
       "#\n",
       "datascience \"</p>\n",
       "            \n",
       "        </div>"
      ],
      "text/plain": [
       "<IPython.core.display.HTML object>"
      ]
     },
     "metadata": {},
     "output_type": "display_data"
    },
    {
     "data": {
      "text/html": [
       "\n",
       "        <div style=\"font-family: Arial, sans-serif; color: black; margin: 10px; padding: 20px; border-radius: 10px; background-color: #f3f3f3; box-shadow: 0 0 10px rgba(0,0,0,0.1);\">\n",
       "            <h2 style=\"color: #333;\">Post ID: Post_14</h2>\n",
       "            <h3 style=\"color: #555;\">Chunk ID: 6b3d64f8-09ec-7bfc-c4d4-47968e9953fc</h3>\n",
       "            <p><strong>Embedding Length:</strong> 384</p>\n",
       "        <p><strong>Score:</strong> 0.87689674</p><p><strong>Rerank Score:</strong> -2.9364070892333984</p>\n",
       "            <p><strong>Chunked Text:</strong> \" how do you generate a synthetic domain - specific q & a dataset in < 30 minutes to fine - tune your open - source llm? this method is also known as finetuning with distillation. here are its 3 main steps for example, let's generate a q & a fine - tuning dataset used to fine - tune a financial advisor llm. step 1 : manually generate a few input examples generate a few input samples ( ~ 3 ) that have the following structure : - user _ context : describe the type of investor ( e. g., \" i am a 28 - year - old marketing professional \" ) - question : describe the user's intention ( e. g., \" is bitcoin a good investment option? \" ) step 2 : expand the input examples with the help of a teacher llm use a powerful llm as a teacher ( e. g., gpt4, falcon 180b, etc. ) to generate up to + n similar input examples. we generated 100 input examples in our use case, but you can generate more. you will use the manually filled input examples to do few - shot prompting. this will guide the llm to give you domain - specific samples. the prompt will look like \"</p>\n",
       "            <p><strong>Full Raw Text:</strong> \" How do you 𝗴𝗲𝗻𝗲𝗿𝗮𝘁𝗲 a 𝘀𝘆𝗻𝘁𝗵𝗲𝘁𝗶𝗰 𝗱𝗼𝗺𝗮𝗶𝗻-𝘀𝗽𝗲𝗰𝗶𝗳𝗶𝗰 𝗤&𝗔 𝗱𝗮𝘁𝗮𝘀𝗲𝘁 in <𝟯𝟬 𝗺𝗶𝗻𝘂𝘁𝗲𝘀 to 𝗳𝗶𝗻𝗲-𝘁𝘂𝗻𝗲 your 𝗼𝗽𝗲𝗻-𝘀𝗼𝘂𝗿𝗰𝗲 𝗟𝗟𝗠?\n",
       "This method is also known as 𝗳𝗶𝗻𝗲𝘁𝘂𝗻𝗶𝗻𝗴 𝘄𝗶𝘁𝗵 𝗱𝗶𝘀𝘁𝗶𝗹𝗹𝗮𝘁𝗶𝗼𝗻. Here are its 3 𝘮𝘢𝘪𝘯 𝘴𝘵𝘦𝘱𝘴 ↓\n",
       "𝘍𝘰𝘳 𝘦𝘹𝘢𝘮𝘱𝘭𝘦, 𝘭𝘦𝘵'𝘴 𝘨𝘦𝘯𝘦𝘳𝘢𝘵𝘦 𝘢 𝘘&𝘈 𝘧𝘪𝘯𝘦-𝘵𝘶𝘯𝘪𝘯𝘨 𝘥𝘢𝘵𝘢𝘴𝘦𝘵 𝘶𝘴𝘦𝘥 𝘵𝘰 𝘧𝘪𝘯𝘦-𝘵𝘶𝘯𝘦 𝘢 𝘧𝘪𝘯𝘢𝘯𝘤𝘪𝘢𝘭 𝘢𝘥𝘷𝘪𝘴𝘰𝘳 𝘓𝘓𝘔.\n",
       "𝗦𝘁𝗲𝗽 𝟭: 𝗠𝗮𝗻𝘂𝗮𝗹𝗹𝘆 𝗴𝗲𝗻𝗲𝗿𝗮𝘁𝗲 𝗮 𝗳𝗲𝘄 𝗶𝗻𝗽𝘂𝘁 𝗲𝘅𝗮𝗺𝗽𝗹𝗲𝘀\n",
       "Generate a few input samples (~3) that have the following structure:\n",
       "- 𝘶𝘴𝘦𝘳_𝘤𝘰𝘯𝘵𝘦𝘹𝘵: describe the type of investor (e.g., \"I am a 28-year-old marketing professional\")\n",
       "- 𝘲𝘶𝘦𝘴𝘵𝘪𝘰𝘯: describe the user's intention (e.g., \"Is Bitcoin a good investment option?\")\n",
       "𝗦𝘁𝗲𝗽 𝟮: 𝗘𝘅𝗽𝗮𝗻𝗱 𝘁𝗵𝗲 𝗶𝗻𝗽𝘂𝘁 𝗲𝘅𝗮𝗺𝗽𝗹𝗲𝘀 𝘄𝗶𝘁𝗵 𝘁𝗵𝗲 𝗵𝗲𝗹𝗽 𝗼𝗳 𝗮 𝘁𝗲𝗮𝗰𝗵𝗲𝗿 𝗟𝗟𝗠\n",
       "Use a powerful LLM as a teacher (e.g., GPT4, Falcon 180B, etc.) to generate up to +N similar input examples.\n",
       "We generated 100 input examples in our use case, but you can generate more.\n",
       "You will use the manually filled input examples to do few-shot prompting.\n",
       "This will guide the LLM to give you domain-specific samples.\n",
       "𝘛𝘩𝘦 𝘱𝘳𝘰𝘮𝘱𝘵 𝘸𝘪𝘭𝘭 𝘭𝘰𝘰𝘬 𝘭𝘪𝘬𝘦 𝘵𝘩𝘪𝘴:\n",
       "\"\"\"\n",
       "...\n",
       "Generate 100 more examples with the following pattern:\n",
       "# USER CONTEXT 1\n",
       "...\n",
       "# QUESTION 1\n",
       "...\n",
       "# USER CONTEXT 2\n",
       "...\n",
       "\"\"\"\n",
       "𝗦𝘁𝗲𝗽 𝟯: 𝗨𝘀𝗲 𝘁𝗵𝗲 𝘁𝗲𝗮𝗰𝗵𝗲𝗿 𝗟𝗟𝗠 𝘁𝗼 𝗴𝗲𝗻𝗲𝗿𝗮𝘁𝗲 𝗼𝘂𝘁𝗽𝘂𝘁𝘀 𝗳𝗼𝗿 𝗮𝗹𝗹 𝘁𝗵𝗲 𝗶𝗻𝗽𝘂𝘁 𝗲𝘅𝗮𝗺𝗽𝗹𝗲𝘀\n",
       "Now, you will have the same powerful LLM as a teacher, but this time, it will answer all your N input examples.\n",
       "But first, to introduce more variance, we will use RAG to enrich the input examples with news context.\n",
       "Afterward, we will use the teacher LLM to answer all N input examples.\n",
       "...and bam! You generated a domain-specific Q&A dataset with almost 0 manual work.\n",
       ".\n",
       "Now, you will use this data to train a smaller LLM (e.g., Falcon 7B) on a niched task, such as financial advising.\n",
       "This technique is known as finetuning with distillation because you use a powerful LLM as the teacher (e.g., GPT4, Falcon 180B) to generate the data, which will be used to fine-tune a smaller LLM (e.g., Falcon 7B), which acts as the student.\n",
       "✒️ 𝘕𝘰𝘵𝘦: To ensure that the generated data is of high quality, you can hire a domain expert to check & refine it.\n",
       ".\n",
       "↳ To learn more about this technique, check out this article from Pau Labarta's RLML newsletter: 🔗\n",
       "https://lnkd.in/d4m9pbn5\n",
       "hashtag\n",
       "#\n",
       "machinelearning\n",
       "hashtag\n",
       "#\n",
       "mlops\n",
       "hashtag\n",
       "#\n",
       "datascience\n",
       ".\n",
       "💡 Follow me for daily lessons about ML engineering and MLOps. \"</p>\n",
       "            \n",
       "        </div>"
      ],
      "text/plain": [
       "<IPython.core.display.HTML object>"
      ]
     },
     "metadata": {},
     "output_type": "display_data"
    },
    {
     "data": {
      "text/html": [
       "\n",
       "        <div style=\"font-family: Arial, sans-serif; color: black; margin: 10px; padding: 20px; border-radius: 10px; background-color: #f3f3f3; box-shadow: 0 0 10px rgba(0,0,0,0.1);\">\n",
       "            <h2 style=\"color: #333;\">Post ID: Post_19</h2>\n",
       "            <h3 style=\"color: #555;\">Chunk ID: 106978d3-8181-dc63-9444-cdbe79831f77</h3>\n",
       "            <p><strong>Embedding Length:</strong> 384</p>\n",
       "        <p><strong>Score:</strong> 0.83274156</p><p><strong>Rerank Score:</strong> -3.303919792175293</p>\n",
       "            <p><strong>Chunked Text:</strong> \" . pre - trained open - source llm you never want to start training your llm from scratch ( or rarely ). why? because you need trillions of tokens & millions of $ $ $ in compute power. you want to fine - tune your llm on your specific task. the good news is that you can find a plethora of open - source llms on huggingface ( e. g., falcon, llama, etc. ) parameter efficient fine - tuning as llms are big... duh...... they don't fit on a single gpu. as you want only to fine - tune the llm, the community invented clever techniques that quantize the llm ( to fit on a single gpu ) and fine - tune only a set of smaller adapters. one popular approach is qlora, which can be implemented using hf's ` peft ` python package. mlops as you want your project to get to production, you have to integrate the following mlops components : - experiment tracker to monitor & compare your experiments - model registry to version & share your models between the fti pipelines - prompts monitoring to debug & track complex chains all of them \"</p>\n",
       "            <p><strong>Full Raw Text:</strong> \" 𝗪𝗵𝗮𝘁 do you need to 𝗳𝗶𝗻𝗲-𝘁𝘂𝗻𝗲 an open-source 𝗟𝗟𝗠 to create your own 𝗳𝗶𝗻𝗮𝗻𝗰𝗶𝗮𝗹 𝗮𝗱𝘃𝗶𝘀𝗼𝗿?\n",
       "This is the 𝗟𝗟𝗠 𝗳𝗶𝗻𝗲-𝘁𝘂𝗻𝗶𝗻𝗴 𝗸𝗶𝘁 you must know ↓\n",
       "𝗗𝗮𝘁𝗮𝘀𝗲𝘁\n",
       "The key component of any successful ML project is the data.\n",
       "You need a 100 - 1000 sample Q&A (questions & answers) dataset with financial scenarios.\n",
       "The best approach is to hire a bunch of experts to create it manually.\n",
       "But, for a PoC, that might get expensive & slow.\n",
       "The good news is that a method called \"𝘍𝘪𝘯𝘦𝘵𝘶𝘯𝘪𝘯𝘨 𝘸𝘪𝘵𝘩 𝘥𝘪𝘴𝘵𝘪𝘭𝘭𝘢𝘵𝘪𝘰𝘯\" exists.\n",
       "In a nutshell, this is how it works: \"Use a big & powerful LLM (e.g., GPT4) to generate your fine-tuning data. After, use this data to fine-tune a smaller model (e.g., Falcon 7B).\"\n",
       "For specializing smaller LLMs on specific use cases (e.g., financial advisors), this is an excellent method to kick off your project.\n",
       "𝗣𝗿𝗲-𝘁𝗿𝗮𝗶𝗻𝗲𝗱 𝗼𝗽𝗲𝗻-𝘀𝗼𝘂𝗿𝗰𝗲 𝗟𝗟𝗠\n",
       "You never want to start training your LLM from scratch (or rarely).\n",
       "Why? Because you need trillions of tokens & millions of $$$ in compute power.\n",
       "You want to fine-tune your LLM on your specific task.\n",
       "The good news is that you can find a plethora of open-source LLMs on HuggingFace (e.g., Falcon, LLaMa, etc.)\n",
       "𝗣𝗮𝗿𝗮𝗺𝗲𝘁𝗲𝗿 𝗲𝗳𝗳𝗶𝗰𝗶𝗲𝗻𝘁 𝗳𝗶𝗻𝗲-𝘁𝘂𝗻𝗶𝗻𝗴\n",
       "As LLMs are big... duh...\n",
       "... they don't fit on a single GPU.\n",
       "As you want only to fine-tune the LLM, the community invented clever techniques that quantize the LLM (to fit on a single GPU) and fine-tune only a set of smaller adapters.\n",
       "One popular approach is QLoRA, which can be implemented using HF's `𝘱𝘦𝘧𝘵` Python package.\n",
       "𝗠𝗟𝗢𝗽𝘀\n",
       "As you want your project to get to production, you have to integrate the following MLOps components:\n",
       "- experiment tracker to monitor & compare your experiments\n",
       "- model registry to version & share your models between the FTI pipelines\n",
       "- prompts monitoring to debug & track complex chains\n",
       "↳ All of them are available on ML platforms, such as Comet ML 🔗\n",
       "https://lnkd.in/d7jNQz7m\n",
       "𝗖𝗼𝗺𝗽𝘂𝘁𝗲 𝗽𝗹𝗮𝘁𝗳𝗼𝗿𝗺\n",
       "The most common approach is to train your LLM on your on-prem Nivida GPUs cluster or rent them on cloud providers such as AWS, Paperspace, etc.\n",
       "But what if I told you that there is an easier way?\n",
       "There is! It is called serverless.\n",
       "For example,\n",
       "Beam\n",
       "is a GPU serverless provider that makes deploying your training pipeline as easy as decorating your Python function with `@𝘢𝘱𝘱.𝘳𝘶𝘯()`.\n",
       "Along with ease of deployment, you can easily add your training code to your CI/CD to add the final piece of the MLOps puzzle, called CT (continuous training).\n",
       "↳ Beam: 🔗\n",
       "https://lnkd.in/dedCaMDh\n",
       ".\n",
       "↳ To see all these components in action, check out my FREE 𝗛𝗮𝗻𝗱𝘀-𝗼𝗻 𝗟𝗟𝗠𝘀 𝗰𝗼𝘂𝗿𝘀𝗲 & give it a ⭐:  🔗\n",
       "https://lnkd.in/dZgqtf8f\n",
       "hashtag\n",
       "#\n",
       "machinelearning\n",
       "hashtag\n",
       "#\n",
       "mlops\n",
       "hashtag\n",
       "#\n",
       "datascience \"</p>\n",
       "            \n",
       "        </div>"
      ],
      "text/plain": [
       "<IPython.core.display.HTML object>"
      ]
     },
     "metadata": {},
     "output_type": "display_data"
    },
    {
     "data": {
      "text/html": [
       "\n",
       "        <div style=\"font-family: Arial, sans-serif; color: black; margin: 10px; padding: 20px; border-radius: 10px; background-color: #f3f3f3; box-shadow: 0 0 10px rgba(0,0,0,0.1);\">\n",
       "            <h2 style=\"color: #333;\">Post ID: Post_14</h2>\n",
       "            <h3 style=\"color: #555;\">Chunk ID: c49a69fd-32de-0b7b-1fab-2ec3517b0955</h3>\n",
       "            <p><strong>Embedding Length:</strong> 384</p>\n",
       "        <p><strong>Score:</strong> 0.81965065</p><p><strong>Rerank Score:</strong> -3.4949071407318115</p>\n",
       "            <p><strong>Chunked Text:</strong> \" we generated 100 input examples in our use case, but you can generate more. you will use the manually filled input examples to do few - shot prompting. this will guide the llm to give you domain - specific samples. the prompt will look like this : \" \" \"... generate 100 more examples with the following pattern : # user context 1... # question 1... # user context 2... \" \" \" step 3 : use the teacher llm to generate outputs for all the input examples now, you will have the same powerful llm as a teacher, but this time, it will answer all your n input examples. but first, to introduce more variance, we will use rag to enrich the input examples with news context. afterward, we will use the teacher llm to answer all n input examples.... and bam! you generated a domain - specific q & a dataset with almost 0 manual work.. now, you will use this data to train a smaller llm ( e. g., falcon 7b ) on a niched task, such as financial advising. this technique is known as finetuning with distillation because you use a powerful llm as the teacher ( e. g. \"</p>\n",
       "            <p><strong>Full Raw Text:</strong> \" How do you 𝗴𝗲𝗻𝗲𝗿𝗮𝘁𝗲 a 𝘀𝘆𝗻𝘁𝗵𝗲𝘁𝗶𝗰 𝗱𝗼𝗺𝗮𝗶𝗻-𝘀𝗽𝗲𝗰𝗶𝗳𝗶𝗰 𝗤&𝗔 𝗱𝗮𝘁𝗮𝘀𝗲𝘁 in <𝟯𝟬 𝗺𝗶𝗻𝘂𝘁𝗲𝘀 to 𝗳𝗶𝗻𝗲-𝘁𝘂𝗻𝗲 your 𝗼𝗽𝗲𝗻-𝘀𝗼𝘂𝗿𝗰𝗲 𝗟𝗟𝗠?\n",
       "This method is also known as 𝗳𝗶𝗻𝗲𝘁𝘂𝗻𝗶𝗻𝗴 𝘄𝗶𝘁𝗵 𝗱𝗶𝘀𝘁𝗶𝗹𝗹𝗮𝘁𝗶𝗼𝗻. Here are its 3 𝘮𝘢𝘪𝘯 𝘴𝘵𝘦𝘱𝘴 ↓\n",
       "𝘍𝘰𝘳 𝘦𝘹𝘢𝘮𝘱𝘭𝘦, 𝘭𝘦𝘵'𝘴 𝘨𝘦𝘯𝘦𝘳𝘢𝘵𝘦 𝘢 𝘘&𝘈 𝘧𝘪𝘯𝘦-𝘵𝘶𝘯𝘪𝘯𝘨 𝘥𝘢𝘵𝘢𝘴𝘦𝘵 𝘶𝘴𝘦𝘥 𝘵𝘰 𝘧𝘪𝘯𝘦-𝘵𝘶𝘯𝘦 𝘢 𝘧𝘪𝘯𝘢𝘯𝘤𝘪𝘢𝘭 𝘢𝘥𝘷𝘪𝘴𝘰𝘳 𝘓𝘓𝘔.\n",
       "𝗦𝘁𝗲𝗽 𝟭: 𝗠𝗮𝗻𝘂𝗮𝗹𝗹𝘆 𝗴𝗲𝗻𝗲𝗿𝗮𝘁𝗲 𝗮 𝗳𝗲𝘄 𝗶𝗻𝗽𝘂𝘁 𝗲𝘅𝗮𝗺𝗽𝗹𝗲𝘀\n",
       "Generate a few input samples (~3) that have the following structure:\n",
       "- 𝘶𝘴𝘦𝘳_𝘤𝘰𝘯𝘵𝘦𝘹𝘵: describe the type of investor (e.g., \"I am a 28-year-old marketing professional\")\n",
       "- 𝘲𝘶𝘦𝘴𝘵𝘪𝘰𝘯: describe the user's intention (e.g., \"Is Bitcoin a good investment option?\")\n",
       "𝗦𝘁𝗲𝗽 𝟮: 𝗘𝘅𝗽𝗮𝗻𝗱 𝘁𝗵𝗲 𝗶𝗻𝗽𝘂𝘁 𝗲𝘅𝗮𝗺𝗽𝗹𝗲𝘀 𝘄𝗶𝘁𝗵 𝘁𝗵𝗲 𝗵𝗲𝗹𝗽 𝗼𝗳 𝗮 𝘁𝗲𝗮𝗰𝗵𝗲𝗿 𝗟𝗟𝗠\n",
       "Use a powerful LLM as a teacher (e.g., GPT4, Falcon 180B, etc.) to generate up to +N similar input examples.\n",
       "We generated 100 input examples in our use case, but you can generate more.\n",
       "You will use the manually filled input examples to do few-shot prompting.\n",
       "This will guide the LLM to give you domain-specific samples.\n",
       "𝘛𝘩𝘦 𝘱𝘳𝘰𝘮𝘱𝘵 𝘸𝘪𝘭𝘭 𝘭𝘰𝘰𝘬 𝘭𝘪𝘬𝘦 𝘵𝘩𝘪𝘴:\n",
       "\"\"\"\n",
       "...\n",
       "Generate 100 more examples with the following pattern:\n",
       "# USER CONTEXT 1\n",
       "...\n",
       "# QUESTION 1\n",
       "...\n",
       "# USER CONTEXT 2\n",
       "...\n",
       "\"\"\"\n",
       "𝗦𝘁𝗲𝗽 𝟯: 𝗨𝘀𝗲 𝘁𝗵𝗲 𝘁𝗲𝗮𝗰𝗵𝗲𝗿 𝗟𝗟𝗠 𝘁𝗼 𝗴𝗲𝗻𝗲𝗿𝗮𝘁𝗲 𝗼𝘂𝘁𝗽𝘂𝘁𝘀 𝗳𝗼𝗿 𝗮𝗹𝗹 𝘁𝗵𝗲 𝗶𝗻𝗽𝘂𝘁 𝗲𝘅𝗮𝗺𝗽𝗹𝗲𝘀\n",
       "Now, you will have the same powerful LLM as a teacher, but this time, it will answer all your N input examples.\n",
       "But first, to introduce more variance, we will use RAG to enrich the input examples with news context.\n",
       "Afterward, we will use the teacher LLM to answer all N input examples.\n",
       "...and bam! You generated a domain-specific Q&A dataset with almost 0 manual work.\n",
       ".\n",
       "Now, you will use this data to train a smaller LLM (e.g., Falcon 7B) on a niched task, such as financial advising.\n",
       "This technique is known as finetuning with distillation because you use a powerful LLM as the teacher (e.g., GPT4, Falcon 180B) to generate the data, which will be used to fine-tune a smaller LLM (e.g., Falcon 7B), which acts as the student.\n",
       "✒️ 𝘕𝘰𝘵𝘦: To ensure that the generated data is of high quality, you can hire a domain expert to check & refine it.\n",
       ".\n",
       "↳ To learn more about this technique, check out this article from Pau Labarta's RLML newsletter: 🔗\n",
       "https://lnkd.in/d4m9pbn5\n",
       "hashtag\n",
       "#\n",
       "machinelearning\n",
       "hashtag\n",
       "#\n",
       "mlops\n",
       "hashtag\n",
       "#\n",
       "datascience\n",
       ".\n",
       "💡 Follow me for daily lessons about ML engineering and MLOps. \"</p>\n",
       "            \n",
       "        </div>"
      ],
      "text/plain": [
       "<IPython.core.display.HTML object>"
      ]
     },
     "metadata": {},
     "output_type": "display_data"
    },
    {
     "data": {
      "text/html": [
       "\n",
       "        <div style=\"font-family: Arial, sans-serif; color: black; margin: 10px; padding: 20px; border-radius: 10px; background-color: #f3f3f3; box-shadow: 0 0 10px rgba(0,0,0,0.1);\">\n",
       "            <h2 style=\"color: #333;\">Post ID: Post_44</h2>\n",
       "            <h3 style=\"color: #555;\">Chunk ID: 0b760e7b-8d07-aae4-3415-0b57010d8527</h3>\n",
       "            <p><strong>Embedding Length:</strong> 384</p>\n",
       "        <p><strong>Score:</strong> 0.89639693</p><p><strong>Rerank Score:</strong> -3.8074278831481934</p>\n",
       "            <p><strong>Chunked Text:</strong> \" 7 steps on how to chain your prompts to build a production - ready financial assistant using llms when building llm applications, you frequently have to divide your application into multiple steps & prompts, which are known as \" chaining prompts \". here are 7 standard steps when building a financial assistant using llms ( or any other assistant ) step 1 : check if the user's question is safe using openai's moderation api if the user's query is safe, move to step 2 step 2 : query your proprietary data ( e. g., financial news ) to enrich the prompt with fresh data & additional context. to do so, you have to : - use an lm to embed the user's input - use the embedding to query your proprietary data stored in a vector db note : you must use the same lm model to embed : - the data that will be stored in the vector db - the user's question used to query the vector db step 3 : build the prompt using : - a predefined template - the user's question - extracted financial news as context - your conversation history as context step 4 : call the llm step 5 : check if the assistant's answer is \"</p>\n",
       "            <p><strong>Full Raw Text:</strong> \" 𝟳 𝘀𝘁𝗲𝗽𝘀 on how to 𝗰𝗵𝗮𝗶𝗻 your 𝗽𝗿𝗼𝗺𝗽𝘁𝘀 to build a production-ready 𝗳𝗶𝗻𝗮𝗻𝗰𝗶𝗮𝗹 𝗮𝘀𝘀𝗶𝘀𝘁𝗮𝗻𝘁 using 𝗟𝗟𝗠𝘀 ↓\n",
       "When building LLM applications, you frequently have to divide your application into multiple steps & prompts, which are known as \"chaining prompts\".\n",
       "Here are 7 standard steps when building a financial assistant using LLMs (or any other assistant) ↓\n",
       "𝗦𝘁𝗲𝗽 𝟭: Check if the user's question is safe using OpenAI's Moderation API\n",
       "If the user's query is safe, move to 𝗦𝘁𝗲𝗽 𝟮 ↓\n",
       "𝗦𝘁𝗲𝗽 𝟮: Query your proprietary data (e.g., financial news) to enrich the prompt with fresh data & additional context.\n",
       "To do so, you have to:\n",
       "- use an LM to embed the user's input\n",
       "- use the embedding to query your proprietary data stored in a vector DB\n",
       "𝘕𝘰𝘵𝘦: You must use the same LM model to embed:\n",
       "- the data that will be stored in the vector DB\n",
       "- the user's question used to query the vector DB\n",
       "𝗦𝘁𝗲𝗽 𝟯: Build the prompt using:\n",
       "- a predefined template\n",
       "- the user's question\n",
       "- extracted financial news as context\n",
       "- your conversation history as context\n",
       "𝗦𝘁𝗲𝗽 𝟰: Call the LLM\n",
       "𝗦𝘁𝗲𝗽 𝟱: Check if the assistant's answer is safe using the OpenAI's Moderation API.\n",
       "If the assistant's answer is safe, move to 𝗦𝘁𝗲𝗽 𝟱 ↓\n",
       "𝗦𝘁𝗲𝗽 𝟲: Use an LLM to check if the final answer is satisfactory.\n",
       "To do so, you build a prompt using the following:\n",
       "- a validation predefined template\n",
       "- the user's initial question\n",
       "- the assistants answer\n",
       "The LLM has to give a \"yes\" or \"no\" answer.\n",
       "Thus, if it answers \"yes,\" we show the final answer to the user. Otherwise, we will return a predefined response, such as:\n",
       "\"Sorry, we couldn't answer your question because we don't have enough information.\"\n",
       "𝗦𝘁𝗲𝗽 𝟳: Add the user's question and assistant's answer to a history cache. Which will be used to enrich the following prompts with the current conversation.\n",
       "Just to remind you, the assistant should support a conversation. Thus, it needs to know what happened in the previous questions.\n",
       "→ In practice, you usually keep only the latest N (question, answer) tuples or a conversation summary to keep your context length under control.\n",
       ".\n",
       "↳ If you want to see this strategy in action, check out our new FREE Hands-on LLMs course (work in progress) & give it a ⭐ to stay updated with its latest progress.\n",
       "Link in the comments ↓\n",
       "hashtag\n",
       "#\n",
       "machinelearning\n",
       "hashtag\n",
       "#\n",
       "generativeai\n",
       "hashtag\n",
       "#\n",
       "deeplearning\n",
       "-----\n",
       "💡 Follow me for daily lessons about ML engineering and MLOps. \"</p>\n",
       "            \n",
       "        </div>"
      ],
      "text/plain": [
       "<IPython.core.display.HTML object>"
      ]
     },
     "metadata": {},
     "output_type": "display_data"
    }
   ],
   "source": [
    "query_post = \"\"\"𝗪𝗵𝗮𝘁 do you need to 𝗳𝗶𝗻𝗲-𝘁𝘂𝗻𝗲 an open-source 𝗟𝗟𝗠 to create your own 𝗳𝗶𝗻𝗮𝗻𝗰𝗶𝗮𝗹 𝗮𝗱𝘃𝗶𝘀𝗼𝗿?\\nThis is the 𝗟𝗟𝗠 𝗳𝗶𝗻𝗲-𝘁𝘂𝗻𝗶𝗻𝗴 𝗸𝗶𝘁 you must know ↓\n",
    "\\n𝗗𝗮𝘁𝗮𝘀𝗲𝘁\\nThe key component of any successful ML project is the data.\\nYou need a 100 - 1000 sample Q&A (questions & answers) dataset with financial scenarios.\n",
    "\\nThe best approach is to hire a bunch of experts to create it manually.\\nBut, for a PoC, that might get expensive & slow.\\nThe good news is that a method called \n",
    "\\\"𝘍𝘪𝘯𝘦𝘵𝘶𝘯𝘪𝘯𝘨 𝘸𝘪𝘵𝘩 𝘥𝘪𝘴𝘵𝘪𝘭𝘭𝘢𝘵𝘪𝘰𝘯\\\" exists.\\nIn a nutshell, this is how it works: \\\"Use a big & powerful LLM (e.g., GPT4) to generate your fine-tuning data. \n",
    "After, use this data to fine-tune a smaller model (e.g., Falcon 7B).\\\"\\nFor specializing smaller LLMs on specific use cases (e.g., financial advisors), \n",
    "this is an excellent method to kick off your project.\\n𝗣𝗿𝗲-𝘁𝗿𝗮𝗶𝗻𝗲𝗱 𝗼𝗽𝗲𝗻-𝘀𝗼𝘂𝗿𝗰𝗲 𝗟𝗟𝗠\\nYou never want to start training your LLM from scratch (or rarely).\\n\n",
    "Why? Because you need trillions of tokens & millions of $$$ in compute power.\\nYou want to fine-tune your LLM on your specific task.\\n\n",
    "he good news is that you can find a plethora of open-source LLMs on HuggingFace (e.g., Falcon, LLaMa, etc.)\\n\n",
    "𝗣𝗮𝗿𝗮𝗺𝗲𝘁𝗲𝗿 𝗲𝗳𝗳𝗶𝗰𝗶𝗲𝗻𝘁 𝗳𝗶𝗻𝗲-𝘁𝘂𝗻𝗶𝗻𝗴\\nAs LLMs are big... duh...\\n... they don't fit on a single GPU.\\n\n",
    "As you want only to fine-tune the LLM, the community invented clever techniques that quantize the LLM (to fit on a single GPU) and \n",
    "fine-tune only a set of smaller adapters.\\nOne popular approach is QLoRA, which can be implemented using HF's `𝘱𝘦𝘧𝘵` Python package.\\n𝗠𝗟𝗢𝗽𝘀\\n\n",
    "As you want your project to get to production, you have to integrate the following MLOps components:\\n\n",
    "- experiment tracker to monitor & compare your experiments\\n\n",
    "- model registry to version & share your models between the FTI pipelines\\n-\n",
    "prompts monitoring to debug & track complex chains\\n\n",
    "↳ All of them are available on ML platforms, such as Comet ML 🔗\\nhttps://lnkd.in/d7jNQz7m\\n𝗖𝗼𝗺𝗽𝘂𝘁𝗲 𝗽𝗹𝗮𝘁𝗳𝗼𝗿𝗺\\n\n",
    "The most common approach is to train your LLM on your on-prem Nivida GPUs cluster or rent them on cloud providers such as AWS, Paperspace, etc.\\n\n",
    "But what if I told you that there is an easier way?\\nThere is! It is called serverless.\\nFor example,\\nBeam\\nis a GPU serverless provider that \n",
    "makes deploying your training pipeline as easy as decorating your Python function with `@𝘢𝘱𝘱.𝘳𝘶𝘯()`.\\n\n",
    "Along with ease of deployment, you can easily add your training code to your CI/CD to add the final piece of the MLOps puzzle, \n",
    "called CT (continuous training).\\n↳ Beam: 🔗\\nhttps://lnkd.in/dedCaMDh\\n.\\n\n",
    "↳ To see all these components in action, check out my FREE 𝗛𝗮𝗻𝗱𝘀-𝗼𝗻 𝗟𝗟𝗠𝘀 𝗰𝗼𝘂𝗿𝘀𝗲 & give it a ⭐:  \n",
    "🔗\\nhttps://lnkd.in/dZgqtf8f\\nhashtag\\n#\\nmachinelearning\\nhashtag\\n#\\nmlops\\nhashtag\\n#\\ndatascience\"\"\"\n",
    "\n",
    "retrieved_results = vector_db_retriever.search(query=query_post, limit=5, return_all=True)\n",
    "for post in retrieved_results[\"posts\"]:\n",
    "    vector_db_retriever.render_as_html(post)"
   ]
  },
  {
   "cell_type": "code",
   "execution_count": 17,
   "metadata": {},
   "outputs": [
    {
     "data": {
      "text/plain": [
       "'What do you need to fine-tune an open-source LLM to create your own financial advisor?\\nThis is the LLM fine-tuning kit you must know  \\n\\nDataset\\nThe key component of any successful ML project is the data.\\nYou need a 100 - 1000 sample Q&A (questions & answers) dataset with financial scenarios.\\n\\nThe best approach is to hire a bunch of experts to create it manually.\\nBut, for a PoC, that might get expensive & slow.\\nThe good news is that a method called \\n\"Finetuning with distillation\" exists.\\nIn a nutshell, this is how it works: \"Use a big & powerful LLM (e.g., GPT4) to generate your fine-tuning data. \\nAfter, use this data to fine-tune a smaller model (e.g., Falcon 7B).\"\\nFor specializing smaller LLMs on specific use cases (e.g., financial advisors), \\nthis is an excellent method to kick off your project.\\nPre-trained open-source LLM\\nYou never want to start training your LLM from scratch (or rarely).\\n\\nWhy? Because you need trillions of tokens & millions of $$$ in compute power.\\nYou want to fine-tune your LLM on your specific task.\\n\\nhe good news is that you can find a plethora of open-source LLMs on HuggingFace (e.g., Falcon, LLaMa, etc.)\\n\\nParameter efficient fine-tuning\\nAs LLMs are big... duh...\\n... they don\\'t fit on a single GPU.\\n\\nAs you want only to fine-tune the LLM, the community invented clever techniques that quantize the LLM (to fit on a single GPU) and \\nfine-tune only a set of smaller adapters.\\nOne popular approach is QLoRA, which can be implemented using HF\\'s `peft` Python package.\\nMLOps\\n\\nAs you want your project to get to production, you have to integrate the following MLOps components:\\n\\n- experiment tracker to monitor & compare your experiments\\n\\n- model registry to version & share your models between the FTI pipelines\\n-\\nprompts monitoring to debug & track complex chains\\n\\n  All of them are available on ML platforms, such as Comet ML  \\n[URL]\\nCompute platform\\n\\nThe most common approach is to train your LLM on your on-prem Nivida GPUs cluster or rent them on cloud providers such as AWS, Paperspace, etc.\\n\\nBut what if I told you that there is an easier way?\\nThere is! It is called serverless.\\nFor example,\\nBeam\\nis a GPU serverless provider that \\nmakes deploying your training pipeline as easy as decorating your Python function with `@app.run()`.\\n\\nAlong with ease of deployment, you can easily add your training code to your CI/CD to add the final piece of the MLOps puzzle, \\ncalled CT (continuous training).\\n  Beam:  \\n[URL]\\n.\\n\\n  To see all these components in action, check out my FREE Hands-on LLMs course & give it a :  \\n \\n[URL]\\nhashtag\\n#\\nmachinelearning\\nhashtag\\n#\\nmlops\\nhashtag\\n#\\ndatascience'"
      ]
     },
     "execution_count": 17,
     "metadata": {},
     "output_type": "execute_result"
    }
   ],
   "source": [
    "from src.models import CleanedPost\n",
    "\n",
    "CleanedPost.clean(query_post)"
   ]
  },
  {
   "cell_type": "code",
   "execution_count": 18,
   "metadata": {},
   "outputs": [
    {
     "name": "stderr",
     "output_type": "stream",
     "text": [
      "100%|█████████████████████████████████████████████████████████████████████████████████████████████████████████████████████████████| 7/7 [00:02<00:00,  2.76it/s]\n",
      "100%|█████████████████████████████████████████████████████████████████████████████████████████████████████████████████████████████| 5/5 [00:01<00:00,  3.07it/s]\n"
     ]
    },
    {
     "data": {
      "image/png": "[encoded data removed]",
      "text/plain": [
       "<Figure size 1000x600 with 1 Axes>"
      ]
     },
     "metadata": {},
     "output_type": "display_data"
    }
   ],
   "source": [
    "visualizer.render(\n",
    "    embedded_queries=retrieved_results[\"embdedded_queries\"],\n",
    "    retrieved_posts=retrieved_results[\"posts\"],\n",
    ")"
   ]
  },
  {
   "cell_type": "code",
   "execution_count": null,
   "metadata": {},
   "outputs": [],
   "source": []
  }
 ],
 "metadata": {
  "kernelspec": {
   "display_name": "Python 3 (ipykernel)",
   "language": "python",
   "name": "python3"
  },
  "language_info": {
   "codemirror_mode": {
    "name": "ipython",
    "version": 3
   },
   "file_extension": ".py",
   "mimetype": "text/x-python",
   "name": "python",
   "nbconvert_exporter": "python",
   "pygments_lexer": "ipython3",
   "version": "3.11.0"
  }
 },
 "nbformat": 4,
 "nbformat_minor": 4
}
